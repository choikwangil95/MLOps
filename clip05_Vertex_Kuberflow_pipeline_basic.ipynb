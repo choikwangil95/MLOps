{
 "cells": [
  {
   "cell_type": "code",
   "execution_count": null,
   "id": "d794c5ff-9c3e-426e-9e99-64f37800eb0d",
   "metadata": {
    "tags": []
   },
   "outputs": [],
   "source": [
    "# Copyright 2022 Google LLC\n",
    "#\n",
    "# Licensed under the Apache License, Version 2.0 (the \"License\");\n",
    "# you may not use this file except in compliance with the License.\n",
    "# You may obtain a copy of the License at\n",
    "#\n",
    "#     https://www.apache.org/licenses/LICENSE-2.0\n",
    "#\n",
    "# Unless required by applicable law or agreed to in writing, software\n",
    "# distributed under the License is distributed on an \"AS IS\" BASIS,\n",
    "# WITHOUT WARRANTIES OR CONDITIONS OF ANY KIND, either express or implied.\n",
    "# See the License for the specific language governing permissions and\n",
    "# limitations under the License."
   ]
  },
  {
   "cell_type": "markdown",
   "id": "2ab803c2-150f-45cf-be72-65942a88f0c6",
   "metadata": {},
   "source": [
    "# Vertex AI Pipelines: using Kuberflow pipelines (KFP)"
   ]
  },
  {
   "cell_type": "markdown",
   "id": "b8c4c464-cc35-4957-84b4-d5eaa3554d07",
   "metadata": {},
   "source": [
    "## 설치\n",
    "\n",
    "필요한 library 설치"
   ]
  },
  {
   "cell_type": "code",
   "execution_count": null,
   "id": "c816c274-a5d1-4f38-a7a0-8c8f28970c25",
   "metadata": {
    "tags": []
   },
   "outputs": [],
   "source": [
    "! pip3 install --upgrade google-cloud-aiplatform \\\n",
    "                         google-cloud-storage \\\n",
    "                         kfp \\\n",
    "                         google-cloud-pipeline-components"
   ]
  },
  {
   "cell_type": "markdown",
   "id": "3fd1684e-ce21-4b1b-88d5-b67959a18d96",
   "metadata": {
    "tags": []
   },
   "source": [
    "## 환경 설정\n",
    "\n",
    "Project ID와 Region 설정 "
   ]
  },
  {
   "cell_type": "code",
   "execution_count": null,
   "id": "cee32779-66e6-477a-adb4-e16b74913442",
   "metadata": {
    "tags": []
   },
   "outputs": [],
   "source": [
    "!gcloud config list"
   ]
  },
  {
   "cell_type": "code",
   "execution_count": null,
   "id": "cc761c13-863b-49cc-9223-7fc35592711f",
   "metadata": {
    "tags": []
   },
   "outputs": [],
   "source": [
    "PROJECT_ID = \"{your project id}\" \n",
    "REGION = \"us-central1\"\n",
    "\n",
    "# Project ID 세팅\n",
    "! gcloud config set project {PROJECT_ID}\n"
   ]
  },
  {
   "cell_type": "markdown",
   "id": "7d1bdecc-b803-40c8-8614-dd24370a09e5",
   "metadata": {},
   "source": [
    "### - Cloud Storage bucket 생성\n",
    "\n",
    "dataset이나 artifact를 저장하기 위한 bucket을 생성"
   ]
  },
  {
   "cell_type": "code",
   "execution_count": null,
   "id": "483c8d13-d191-4cba-9b8d-e76cf686a4fa",
   "metadata": {
    "tags": []
   },
   "outputs": [],
   "source": [
    "BUCKET_URI = f\"gs://fs-practice-{PROJECT_ID}\"  # @param {type:\"string\"}"
   ]
  },
  {
   "cell_type": "code",
   "execution_count": null,
   "id": "4192c8d4-3ddd-4392-96d4-72fd0b9a4742",
   "metadata": {
    "tags": []
   },
   "outputs": [],
   "source": [
    "! gsutil mb -l {REGION} -p {PROJECT_ID} {BUCKET_URI}"
   ]
  },
  {
   "cell_type": "markdown",
   "id": "c713e93e-a0a9-448d-9d5d-6c1123c542b0",
   "metadata": {},
   "source": [
    "### - Service Account 설정\n",
    "Service Account가 Bucket에 접근할 수 있도록 설정"
   ]
  },
  {
   "cell_type": "code",
   "execution_count": null,
   "id": "d0421d9a-696b-4464-8979-8172e88452e4",
   "metadata": {
    "tags": []
   },
   "outputs": [],
   "source": [
    "shell_output = !gcloud auth list 2>/dev/null\n",
    "SERVICE_ACCOUNT = shell_output[2].replace(\"*\", \"\").strip()"
   ]
  },
  {
   "cell_type": "code",
   "execution_count": null,
   "id": "4d7da24e-66a2-463e-86a7-8a7de9036559",
   "metadata": {
    "tags": []
   },
   "outputs": [],
   "source": [
    "! gsutil iam ch serviceAccount:{SERVICE_ACCOUNT}:roles/storage.objectCreator $BUCKET_URI\n",
    "! gsutil iam ch serviceAccount:{SERVICE_ACCOUNT}:roles/storage.objectViewer $BUCKET_URI"
   ]
  },
  {
   "cell_type": "markdown",
   "id": "0f89e0d5-9b70-415a-a2d9-5fd5ddf936e0",
   "metadata": {},
   "source": [
    "## 주요 Library Import (kuberflow pipeline) \n"
   ]
  },
  {
   "cell_type": "code",
   "execution_count": null,
   "id": "50e893f8-2368-4fda-8920-431ca028b000",
   "metadata": {
    "tags": []
   },
   "outputs": [],
   "source": [
    "from typing import NamedTuple\n",
    "\n",
    "import google.cloud.aiplatform as aip\n",
    "from kfp import compiler, dsl\n",
    "from kfp.dsl import component"
   ]
  },
  {
   "cell_type": "markdown",
   "id": "cdeb5551-e307-4808-b51c-af0fba8a84db",
   "metadata": {},
   "source": [
    "Vertex AI API Endpoint 설정"
   ]
  },
  {
   "cell_type": "code",
   "execution_count": null,
   "id": "1bed0a65-b914-4b79-add7-8cbeae61e7d2",
   "metadata": {
    "tags": []
   },
   "outputs": [],
   "source": [
    "API_ENDPOINT = \"{}-aiplatform.googleapis.com\".format(REGION)"
   ]
  },
  {
   "cell_type": "markdown",
   "id": "d24fb1c6-7964-4490-bfd0-c9c19f699610",
   "metadata": {},
   "source": [
    "Vertext AI Pipeline root 설정"
   ]
  },
  {
   "cell_type": "code",
   "execution_count": null,
   "id": "df9da0f5-fab4-4a85-9c5c-3d092666ee6f",
   "metadata": {
    "tags": []
   },
   "outputs": [],
   "source": [
    "PIPELINE_ROOT = \"{}/pipeline_root/fc_first_pipeline\".format(BUCKET_URI)"
   ]
  },
  {
   "cell_type": "markdown",
   "id": "4e63df33-5a09-4050-a253-4fd4511b02bb",
   "metadata": {},
   "source": [
    "Initialize AI platform object"
   ]
  },
  {
   "cell_type": "code",
   "execution_count": null,
   "id": "8c0f2ccb-1ba8-4c9e-b664-2ee7b94a9ecb",
   "metadata": {
    "tags": []
   },
   "outputs": [],
   "source": [
    "aip.init(project=PROJECT_ID, staging_bucket=BUCKET_URI)"
   ]
  },
  {
   "cell_type": "markdown",
   "id": "7528a688-d9dc-4fbf-9d5d-c129350bbe02",
   "metadata": {
    "tags": []
   },
   "source": [
    "## Python function-based Pipeline Component 설정 \n",
    "### Python 함수 기반 파이프라인 컴포넌트 정의\n",
    "이 튜토리얼에서는 세 단계로 구성된 간단한 파이프라인을 정의하며 각 단계는 컴포넌트로 정의.\n",
    "\n",
    "#### 1. hello_world 컴포넌트 정의\n",
    "\n",
    "먼저 매우 간단한 Python 함수를 기반으로 하는 컴포넌트를 정의. 이 함수는 문자열 입력 매개변수를 사용하고 해당 값을 출력으로 반환.\n",
    "\n",
    "@component 데코레이터의 사용에 주목. 이 데코레이터는 정의한 함수를 KFP(Kuberflow Pipeline) 컴포넌트로 컴파일. 예를 들어, 이 예제에서는 컴포넌트에 사용할 기본 이미지(python:3.9) 및 컴포넌트 YAML 파일인 hw.yaml을 지정. 컴파일된 컴포넌트 사양이 이 파일에 작성.\n",
    "\n"
   ]
  },
  {
   "cell_type": "code",
   "execution_count": null,
   "id": "4fe3b9fb-0131-4c3a-af0b-5c35f6947c14",
   "metadata": {
    "tags": []
   },
   "outputs": [],
   "source": [
    "@component(base_image=\"python:3.9\")\n",
    "def hello_world(text: str) -> str:\n",
    "    print(text)\n",
    "    return text\n",
    "\n",
    "\n",
    "compiler.Compiler().compile(hello_world, \"hw.yaml\")"
   ]
  },
  {
   "cell_type": "markdown",
   "id": "eca0e229-476e-4032-b1a4-75a6cbed5489",
   "metadata": {},
   "source": [
    "#### 2. two_outputs 컴포넌트 정의\n",
    "\n",
    "아래의 첫 번째 컴포넌트, two_outputs,은 패키지 설치를 보여줌. 이 경우에는 google-cloud-storage 패키지를 설치. \n",
    "\n",
    "*참고*: 실제로 컴포넌트 함수는 이 패키지를 사용하지 않음.\n",
    "\n",
    "또는 필요한 설치 사항이 포함된 기본 이미지를 지정할 수도 있음. two_outputs 컴포넌트는 두 개의 명명된 출력을 반환합니다."
   ]
  },
  {
   "cell_type": "code",
   "execution_count": null,
   "id": "c1dd96ba-9746-4553-a1d3-4eb515004d23",
   "metadata": {
    "tags": []
   },
   "outputs": [],
   "source": [
    "@component(packages_to_install=[\"google-cloud-storage\"])\n",
    "def two_outputs(\n",
    "    text: str,\n",
    ") -> NamedTuple(\n",
    "    \"Outputs\",\n",
    "    [\n",
    "        (\"output_one\", str),  # Return parameters\n",
    "        (\"output_two\", str),\n",
    "    ],\n",
    "):\n",
    "    from google.cloud import storage  # noqa: F401\n",
    "\n",
    "    o1 = f\"output one from text: {text}\"\n",
    "    o2 = f\"output two from text: {text}\"\n",
    "    print(\"output one: {}; output_two: {}\".format(o1, o2))\n",
    "    return (o1, o2)"
   ]
  },
  {
   "cell_type": "markdown",
   "id": "0266d89f-6114-4d8e-9336-38a99e9a59fd",
   "metadata": {
    "tags": []
   },
   "source": [
    "#### 3. three_nicemeet_outputs 컴포넌트 정의"
   ]
  },
  {
   "cell_type": "code",
   "execution_count": null,
   "id": "7b25bf1c-a3d1-4002-9821-ac10bed8c28c",
   "metadata": {
    "tags": []
   },
   "outputs": [],
   "source": [
    "@component(base_image=\"python:3.9\")\n",
    "def three_nicemeet_outputs(name: str) -> str:\n",
    "    result_string = \"Nice to meet you! \"+ name\n",
    "    print(result_string)\n",
    "    return result_string\n",
    "\n",
    "\n",
    "compiler.Compiler().compile(three_nicemeet_outputs, \"hw.yaml\")"
   ]
  },
  {
   "cell_type": "markdown",
   "id": "ff16651b-dc73-4566-82d8-a67303372ed9",
   "metadata": {},
   "source": [
    "#### 4. Consumer 컴포넌트 정의\n",
    "\n",
    "네 번째 컴포넌트인 consumer는 세 개의 문자열 입력을 받아서 출력으로 출력."
   ]
  },
  {
   "cell_type": "code",
   "execution_count": null,
   "id": "0133d088-67e7-49f6-a967-cb9bd8bffabf",
   "metadata": {
    "tags": []
   },
   "outputs": [],
   "source": [
    "@component\n",
    "def consumer(text1: str, text2: str, text3: str, text4: str) -> str:\n",
    "    result = f\"text1-> {text1}, text2-> {text2}, text3-> {text3}, text4-> {text4}\"\n",
    "    print(result)\n",
    "    return result"
   ]
  },
  {
   "cell_type": "markdown",
   "id": "5d24e310-18ce-46eb-95ff-d3d3fa8bf3d1",
   "metadata": {},
   "source": [
    "#### 5. 컴포넌트를 사용하는 파이프라인 정의\n",
    "이제 이 네 개의 컴포넌트를 사용하는 파이프라인을 정의.\n",
    "\n",
    "위의 컴포넌트 정의를 평가함으로써 파이프라인 정의에서 사용되는 작업 팩토리 함수를 생성. 이러한 함수들은 파이프라인 단계를 생성하는 데 사용.\n",
    "\n",
    "파이프라인은 입력 매개변수를 가져와서 이 매개변수를 첫 번째 세 파이프라인 단계 (hw_task 및 two_outputs_task)에 인수로 전달.\n",
    "그런 다음 네 번째 파이프라인 단계 (consumer_task)에서는 첫 번째와 두 번째 단계의 출력을 사용. hello_world 컴포넌트 정의는 하나의 무명 출력만 반환하므로 hw_task.output로 참조. two_outputs 작업은 두 개의 명명된 출력을 반환하며, 이를 two_outputs_task.outputs[\"<output_name>\"]로 액세스.\n",
    "\n",
    "*참고:* @dsl.pipeline 데코레이터에서는 PIPELINE_ROOT 클라우드 스토리지 경로를 정의하고 있음. 여기에 이 정보를 포함하지 않았다면, 파이프라인 실행을 생성할 때 지정해야 했을 것임. 아래에서 볼 수 있듯이 이 정보가 필요."
   ]
  },
  {
   "cell_type": "code",
   "execution_count": null,
   "id": "4f66a9ef-1365-48cb-b402-4096de5330da",
   "metadata": {
    "tags": []
   },
   "outputs": [],
   "source": [
    "@dsl.pipeline(\n",
    "    name=\"intro-pipeline-unique\",\n",
    "    description=\"A simple intro pipeline\",\n",
    "    pipeline_root=PIPELINE_ROOT,\n",
    ")\n",
    "def pipeline(text: str = \"hi there\", name: str = \"fc ryan\"):\n",
    "    hw_task = hello_world(text=text)\n",
    "    two_outputs_task = two_outputs(text=text)\n",
    "    three_outputs_task = three_nicemeet_outputs(name=name)\n",
    "    consumer_task = consumer(\n",
    "        text1=hw_task.output,\n",
    "        text2=two_outputs_task.outputs[\"output_one\"],\n",
    "        text3=two_outputs_task.outputs[\"output_two\"],\n",
    "        text4=three_outputs_task.output\n",
    "    )"
   ]
  },
  {
   "cell_type": "markdown",
   "id": "6f0c56b5-4604-49cf-8bfd-5a68a6020b45",
   "metadata": {},
   "source": [
    "## Pipeline 실행"
   ]
  },
  {
   "cell_type": "code",
   "execution_count": null,
   "id": "5f4caab8-2442-4d48-a5dd-81e432451d3e",
   "metadata": {
    "tags": []
   },
   "outputs": [],
   "source": [
    "compiler.Compiler().compile(pipeline_func=pipeline, package_path=\"intro_pipeline.yaml\")"
   ]
  },
  {
   "cell_type": "code",
   "execution_count": null,
   "id": "c93bce2c-358c-428c-a0f1-e5063d56e990",
   "metadata": {
    "tags": []
   },
   "outputs": [],
   "source": [
    "DISPLAY_NAME = \"intro_pipeline_job_unique\"\n",
    "\n",
    "job = aip.PipelineJob(\n",
    "    display_name=DISPLAY_NAME,\n",
    "    template_path=\"intro_pipeline.yaml\",\n",
    "    pipeline_root=PIPELINE_ROOT,\n",
    ")\n",
    "\n",
    "job.run()"
   ]
  },
  {
   "cell_type": "markdown",
   "id": "fab75f25-ca04-4fb5-9532-d64086b5189a",
   "metadata": {
    "tags": []
   },
   "source": [
    "## Pipeline 제거"
   ]
  },
  {
   "cell_type": "code",
   "execution_count": null,
   "id": "0b5804f4-a24f-4e43-8557-ec3b116c8d2b",
   "metadata": {
    "tags": []
   },
   "outputs": [],
   "source": [
    "job.delete()"
   ]
  },
  {
   "cell_type": "code",
   "execution_count": null,
   "id": "de6eb4b1-90c7-4c61-9af8-70176d6fcfdc",
   "metadata": {},
   "outputs": [],
   "source": []
  }
 ],
 "metadata": {
  "environment": {
   "kernel": "conda-root-py",
   "name": "workbench-notebooks.m115",
   "type": "gcloud",
   "uri": "gcr.io/deeplearning-platform-release/workbench-notebooks:m115"
  },
  "kernelspec": {
   "display_name": "Python 3 (ipykernel) (Local)",
   "language": "python",
   "name": "conda-root-py"
  },
  "language_info": {
   "codemirror_mode": {
    "name": "ipython",
    "version": 3
   },
   "file_extension": ".py",
   "mimetype": "text/x-python",
   "name": "python",
   "nbconvert_exporter": "python",
   "pygments_lexer": "ipython3",
   "version": "3.10.13"
  }
 },
 "nbformat": 4,
 "nbformat_minor": 5
}
