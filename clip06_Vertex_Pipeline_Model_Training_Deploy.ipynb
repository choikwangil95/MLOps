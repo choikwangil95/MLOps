{
 "cells": [
  {
   "cell_type": "code",
   "execution_count": null,
   "id": "66b8a0ab-7750-4861-b6f7-c531d16793ba",
   "metadata": {
    "tags": []
   },
   "outputs": [],
   "source": [
    "# Copyright 2021 Google LLC\n",
    "#\n",
    "# Licensed under the Apache License, Version 2.0 (the \"License\");\n",
    "# you may not use this file except in compliance with the License.\n",
    "# You may obtain a copy of the License at\n",
    "#\n",
    "#     https://www.apache.org/licenses/LICENSE-2.0\n",
    "#\n",
    "# Unless required by applicable law or agreed to in writing, software\n",
    "# distributed under the License is distributed on an \"AS IS\" BASIS,\n",
    "# WITHOUT WARRANTIES OR CONDITIONS OF ANY KIND, either express or implied.\n",
    "# See the License for the specific language governing permissions and\n",
    "# limitations under the License."
   ]
  },
  {
   "cell_type": "markdown",
   "id": "6bf7d97e-a9d5-4fe0-9ff3-6d928d921835",
   "metadata": {},
   "source": [
    "# Vertex AI Pipelines: Google Cloud Pipeline Components\n",
    "\n",
    "#### Custom Training Image를 활용해서 모델을 학습하고, 등록, 배포하는 파이프라인을 구성\n",
    "- custom training image 생성과 학습은 clip04에서 복습 가능"
   ]
  },
  {
   "cell_type": "markdown",
   "id": "f616f9ec-fee6-4979-a212-829ce9fb5afa",
   "metadata": {},
   "source": [
    "## 설치\n",
    "\n",
    "필요한 library 설치"
   ]
  },
  {
   "cell_type": "code",
   "execution_count": null,
   "id": "0f05b3c4-cf60-4687-b0ff-24eff2fe1eb8",
   "metadata": {
    "tags": []
   },
   "outputs": [],
   "source": [
    "!pip3 install --upgrade 'protobuf<4' \\\n",
    "                                google-cloud-aiplatform \\\n",
    "                                 google-cloud-storage \\\n",
    "                                 'kfp<2' \\\n",
    "                                 'google-cloud-pipeline-components<2'"
   ]
  },
  {
   "cell_type": "markdown",
   "id": "4c3985b6-c1c5-4bc6-9dac-810c1bfaced9",
   "metadata": {},
   "source": [
    "## 환경 설정\n",
    "\n",
    "Project ID와 Region 설정 "
   ]
  },
  {
   "cell_type": "code",
   "execution_count": null,
   "id": "fcb30377-a207-46f4-af23-ecf52c740d66",
   "metadata": {
    "tags": []
   },
   "outputs": [],
   "source": [
    "!gcloud config list"
   ]
  },
  {
   "cell_type": "code",
   "execution_count": null,
   "id": "49e76a09-69e7-435b-a9e2-60004c46555c",
   "metadata": {
    "tags": []
   },
   "outputs": [],
   "source": [
    "PROJECT_ID = \"inspired-micron-414202\" \n",
    "REGION = \"us-central1\"\n",
    "\n",
    "# Project ID 세팅\n",
    "! gcloud config set project {PROJECT_ID}\n"
   ]
  },
  {
   "cell_type": "markdown",
   "id": "e3434866-0f83-482f-a203-43bea041504f",
   "metadata": {},
   "source": [
    "### - Cloud Storage bucket 생성\n",
    "\n",
    "dataset이나 artifact를 저장하기 위한 bucket을 생성"
   ]
  },
  {
   "cell_type": "code",
   "execution_count": null,
   "id": "b1d072fe-442d-4f2b-b0c7-f3e99387ad2c",
   "metadata": {
    "tags": []
   },
   "outputs": [],
   "source": [
    "BUCKET_URI = f\"gs://fs-practice-{PROJECT_ID}\"  # @param {type:\"string\"}"
   ]
  },
  {
   "cell_type": "code",
   "execution_count": null,
   "id": "2fc87e08-7a85-4f51-a31d-0e544cc553b0",
   "metadata": {
    "tags": []
   },
   "outputs": [],
   "source": [
    "! gsutil mb -l {REGION} -p {PROJECT_ID} {BUCKET_URI}"
   ]
  },
  {
   "cell_type": "markdown",
   "id": "37cc179c-2cb3-46e7-b2eb-9418502a431c",
   "metadata": {},
   "source": [
    "### - Service Account 설정\n",
    "Service Account가 Bucket에 접근할 수 있도록 설정"
   ]
  },
  {
   "cell_type": "code",
   "execution_count": null,
   "id": "b30a4d23-f9fd-4500-a93b-cd27d2dee77e",
   "metadata": {
    "tags": []
   },
   "outputs": [],
   "source": [
    "shell_output = !gcloud auth list 2>/dev/null\n",
    "SERVICE_ACCOUNT = shell_output[2].replace(\"*\", \"\").strip()\n",
    "\n",
    "! gsutil iam ch serviceAccount:{SERVICE_ACCOUNT}:roles/storage.objectCreator $BUCKET_URI\n",
    "! gsutil iam ch serviceAccount:{SERVICE_ACCOUNT}:roles/storage.objectViewer $BUCKET_URI"
   ]
  },
  {
   "cell_type": "markdown",
   "id": "1c58b757-3f42-49cd-80c6-ca6ed924b8ed",
   "metadata": {},
   "source": [
    "## 주요 Library Import (kuberflow pipeline) \n"
   ]
  },
  {
   "cell_type": "code",
   "execution_count": null,
   "id": "5b7045cf-8f22-4061-8fcb-532061078f2e",
   "metadata": {
    "tags": []
   },
   "outputs": [],
   "source": [
    "from typing import Any, Dict, List\n",
    "\n",
    "import google.cloud.aiplatform as aip\n",
    "import kfp\n",
    "from kfp.v2 import compiler\n",
    "\n",
    "import random\n",
    "import string"
   ]
  },
  {
   "cell_type": "markdown",
   "id": "0cdad918-0c6c-41cc-8279-3eb56a1319bc",
   "metadata": {},
   "source": [
    "Vertext AI Pipeline root 설정"
   ]
  },
  {
   "cell_type": "code",
   "execution_count": null,
   "id": "d50a8db0-6a4f-42db-ad7f-5a70b3b2e80c",
   "metadata": {
    "tags": []
   },
   "outputs": [],
   "source": [
    "PIPELINE_ROOT = \"{}/pipeline_root/intro\".format(BUCKET_URI)"
   ]
  },
  {
   "cell_type": "markdown",
   "id": "dc8d42af-1ced-4e10-8ac8-eacad03000f8",
   "metadata": {},
   "source": [
    "Initialize AI platform object"
   ]
  },
  {
   "cell_type": "code",
   "execution_count": null,
   "id": "f3bb25d5-19e8-49cf-8c2a-ec0453c41ba2",
   "metadata": {
    "tags": []
   },
   "outputs": [],
   "source": [
    "aip.init(project=PROJECT_ID, staging_bucket=BUCKET_URI)"
   ]
  },
  {
   "cell_type": "markdown",
   "id": "3805628e-823b-48b3-8619-8c43ef82e5d5",
   "metadata": {},
   "source": [
    "## Google Cloud Pipeline Components을 사용하여 Custom Pipeline을 정의\n",
    "\n",
    "experimental.run_as_aiplatform_custom_job 메서드는 이전에 정의한 구성 요소와 worker_pool_specs 목록(이 경우 하나)을 인수로 받아 사용자 지정 훈련 작업이 구성된다.\n",
    "\n",
    "그런 다음 google_cloud_pipeline_components 구성 요소를 사용하여 나머지 파이프라인을 정의합니다: 모델 업로드, 엔드포인트 생성 및 모델을 엔드포인트에 배포합니다.\n",
    "\n"
   ]
  },
  {
   "cell_type": "markdown",
   "id": "d7dde85f-6726-4544-bcb0-4ee49ff390fa",
   "metadata": {
    "tags": []
   },
   "source": [
    "#### Parameter 설정"
   ]
  },
  {
   "cell_type": "code",
   "execution_count": null,
   "id": "b2428fe2-1012-482b-b47c-bd7c3499cc72",
   "metadata": {
    "tags": []
   },
   "outputs": [],
   "source": [
    "hp_dict: str = '{\"num_hidden_layers\": 1, \"hidden_size\": 16, \"learning_rate\": 0.01, \"epochs\": 1, \"steps_per_epoch\": -1}'\n",
    "data_dir: str = \"gs://aju-dev-demos-codelabs/bikes_weather/\"\n",
    "TRAINER_ARGS = [\"--data-dir\", data_dir, \"--hptune-dict\", hp_dict]\n"
   ]
  },
  {
   "cell_type": "markdown",
   "id": "09bc00e2-51ed-447b-a921-a7e48cfa581b",
   "metadata": {},
   "source": [
    "#### working directory 변수와 model endpoint 변수명을 생성\n",
    "UUID를 랜덤하게 생성해서 변수들을 매번 다르게 설정"
   ]
  },
  {
   "cell_type": "code",
   "execution_count": null,
   "id": "5efae688-34ee-4e87-8749-c4c0e0cab7bd",
   "metadata": {
    "tags": []
   },
   "outputs": [],
   "source": [
    "UUID = \"\".join(random.choices(string.ascii_lowercase + string.digits, k=8))\n",
    "WORKING_DIR = f\"{PIPELINE_ROOT}/{UUID}\"\n",
    "MODEL_DISPLAY_NAME = f\"fc_first_train_deploy{UUID}\"\n",
    "print(TRAINER_ARGS, WORKING_DIR, MODEL_DISPLAY_NAME)\n"
   ]
  },
  {
   "cell_type": "code",
   "execution_count": null,
   "id": "73a29939-db90-4c58-af9b-3fc1027257e0",
   "metadata": {},
   "outputs": [],
   "source": []
  },
  {
   "cell_type": "markdown",
   "id": "3c28bf84-287b-44af-9c5b-8f7ec400a3cb",
   "metadata": {},
   "source": [
    "#### Pipeline을 정의\n",
    "\n",
    "![pipeline 구성](practice_image/Clip6_image.png)"
   ]
  },
  {
   "cell_type": "code",
   "execution_count": null,
   "id": "4f8a2391-882f-47d1-a418-c2142ed35b23",
   "metadata": {
    "tags": []
   },
   "outputs": [],
   "source": [
    "@kfp.dsl.pipeline(name=\"fc-first-train-endpoint-deploy\" + UUID)\n",
    "def pipeline(\n",
    "    project: str = PROJECT_ID,\n",
    "    model_display_name: str = MODEL_DISPLAY_NAME,\n",
    "    serving_container_image_uri: str = \"us-docker.pkg.dev/vertex-ai/prediction/tf2-cpu.2-9:latest\",\n",
    "):\n",
    "    from google_cloud_pipeline_components.types import artifact_types\n",
    "    from google_cloud_pipeline_components.v1.custom_job import \\\n",
    "        CustomTrainingJobOp\n",
    "    from google_cloud_pipeline_components.v1.endpoint import (EndpointCreateOp,\n",
    "                                                              ModelDeployOp)\n",
    "    from google_cloud_pipeline_components.v1.model import ModelUploadOp\n",
    "    from kfp.v2.components import importer_node\n",
    "\n",
    "    custom_job_task = CustomTrainingJobOp(\n",
    "        project=project,\n",
    "        display_name=\"model-training\",\n",
    "        worker_pool_specs=[\n",
    "            {\n",
    "                \"containerSpec\": {\n",
    "                    \"args\": TRAINER_ARGS,\n",
    "                    \"env\": [{\"name\": \"AIP_MODEL_DIR\", \"value\": WORKING_DIR}],\n",
    "                    \"imageUri\": \"gcr.io/google-samples/bw-cc-train:latest\",\n",
    "                },\n",
    "                \"replicaCount\": \"1\",\n",
    "                \"machineSpec\": {\n",
    "                    \"machineType\": \"n1-standard-16\"\n",
    "                },\n",
    "            }\n",
    "        ],\n",
    "    )\n",
    "\n",
    "    import_unmanaged_model_task = importer_node.importer(\n",
    "        artifact_uri=WORKING_DIR,\n",
    "        artifact_class=artifact_types.UnmanagedContainerModel,\n",
    "        metadata={\n",
    "            \"containerSpec\": {\n",
    "                \"imageUri\": \"us-docker.pkg.dev/vertex-ai/prediction/tf2-cpu.2-9:latest\",\n",
    "            },\n",
    "        },\n",
    "    ).after(custom_job_task)\n",
    "\n",
    "    model_upload_op = ModelUploadOp(\n",
    "        project=project,\n",
    "        display_name=model_display_name,\n",
    "        unmanaged_container_model=import_unmanaged_model_task.outputs[\"artifact\"],\n",
    "    )\n",
    "    model_upload_op.after(import_unmanaged_model_task)\n",
    "\n",
    "    endpoint_create_op = EndpointCreateOp(\n",
    "        project=project,\n",
    "        display_name=\"first-fc-pipelines-created-endpoint\",\n",
    "    )\n",
    "\n",
    "    ModelDeployOp(\n",
    "        endpoint=endpoint_create_op.outputs[\"endpoint\"],\n",
    "        model=model_upload_op.outputs[\"model\"],\n",
    "        deployed_model_display_name=model_display_name,\n",
    "        dedicated_resources_machine_type=\"n1-standard-16\",\n",
    "        dedicated_resources_min_replica_count=1,\n",
    "        dedicated_resources_max_replica_count=1,\n",
    "    )"
   ]
  },
  {
   "cell_type": "markdown",
   "id": "6bedc2eb-36f7-4710-8b3c-4042776ab43a",
   "metadata": {},
   "source": [
    "## Pipeline 실행"
   ]
  },
  {
   "cell_type": "code",
   "execution_count": null,
   "id": "9ebdced9-b27f-4b65-aa79-bfc2bb6d75b6",
   "metadata": {
    "tags": []
   },
   "outputs": [],
   "source": [
    "compiler.Compiler().compile(\n",
    "    pipeline_func=pipeline,\n",
    "    package_path=\"fc_first_model_training_pipeline.json\",\n",
    ")"
   ]
  },
  {
   "cell_type": "code",
   "execution_count": null,
   "id": "3c1355c4-e83e-4fc2-abce-47a4f9197290",
   "metadata": {
    "tags": []
   },
   "outputs": [],
   "source": [
    "DISPLAY_NAME = \"first_fc_pipelines_training_\" + UUID\n",
    "\n",
    "job = aip.PipelineJob(\n",
    "    display_name=DISPLAY_NAME,\n",
    "    template_path=\"fc_first_model_training_pipeline.json\",\n",
    "    pipeline_root=PIPELINE_ROOT,\n",
    "    enable_caching=False,\n",
    ")\n",
    "\n",
    "job.run(service_account=SERVICE_ACCOUNT)\n",
    "\n",
    "! rm fc_model_training_pipeline.json"
   ]
  },
  {
   "cell_type": "markdown",
   "id": "35d5f369-682c-4542-8509-32e03d4cdb6a",
   "metadata": {},
   "source": [
    "## SDK를 활용해서 Pipeline 정보 확인 및 컨트롤"
   ]
  },
  {
   "cell_type": "code",
   "execution_count": null,
   "id": "3c2c101e-e783-47e2-973e-071a528192b6",
   "metadata": {
    "tags": []
   },
   "outputs": [],
   "source": [
    "def get_task_detail(\n",
    "    task_details: List[Dict[str, Any]], task_name: str\n",
    ") -> List[Dict[str, Any]]:\n",
    "    for task_detail in task_details:\n",
    "        if task_detail.task_name == task_name:\n",
    "            return task_detail"
   ]
  },
  {
   "cell_type": "markdown",
   "id": "cfe9dcc8-bf15-4dbc-92be-72a4c5a865bf",
   "metadata": {},
   "source": [
    "#### pipeline detail 확인"
   ]
  },
  {
   "cell_type": "code",
   "execution_count": null,
   "id": "5a4f6d1d-6328-4ba7-ad20-506498755204",
   "metadata": {
    "tags": []
   },
   "outputs": [],
   "source": [
    "pipeline_task_details = (\n",
    "    job.gca_resource.job_detail.task_details\n",
    ")\n",
    "pipeline_task_details"
   ]
  },
  {
   "cell_type": "markdown",
   "id": "a5afaeb4-f992-4c4a-8f29-7e72874b37fc",
   "metadata": {},
   "source": [
    "#### endpoint 확인 "
   ]
  },
  {
   "cell_type": "code",
   "execution_count": null,
   "id": "b387de38-5b61-487c-8649-e84d3cc6dd7d",
   "metadata": {
    "tags": []
   },
   "outputs": [],
   "source": [
    "endpoint_task = get_task_detail(pipeline_task_details, \"endpoint-create\")\n",
    "endpoint_resourceName = (\n",
    "    endpoint_task.outputs[\"endpoint\"].artifacts[0].metadata[\"resourceName\"]\n",
    ")\n",
    "endpoint = aip.Endpoint(endpoint_resourceName)\n",
    "endpoint"
   ]
  },
  {
   "cell_type": "markdown",
   "id": "6a49bb72-886d-4653-8b80-07c0472439a0",
   "metadata": {},
   "source": [
    "#### endpoint undeploy와 삭제"
   ]
  },
  {
   "cell_type": "code",
   "execution_count": null,
   "id": "8a1f7183-1756-4dac-a902-b31d958c15dc",
   "metadata": {},
   "outputs": [],
   "source": [
    "endpoint.undeploy_all()\n",
    "endpoint.delete()"
   ]
  },
  {
   "cell_type": "markdown",
   "id": "102f9c6c-7170-4125-9acf-7bed21697f29",
   "metadata": {},
   "source": [
    "#### pipeline의 모델과 모델 제거하기"
   ]
  },
  {
   "cell_type": "code",
   "execution_count": null,
   "id": "06763abe-d0cd-4109-8ca9-58fde4eb5889",
   "metadata": {},
   "outputs": [],
   "source": [
    "model_task = get_task_detail(pipeline_task_details, \"model-upload\")\n",
    "model_resourceName = model_task.outputs[\"model\"].artifacts[0].metadata[\"resourceName\"]\n",
    "model = aip.Model(model_resourceName)\n",
    "model.delete()"
   ]
  },
  {
   "cell_type": "markdown",
   "id": "db62a60a-b650-40f9-9923-cd254bc81d16",
   "metadata": {},
   "source": [
    "#### Pipline 제거하기"
   ]
  },
  {
   "cell_type": "code",
   "execution_count": null,
   "id": "04abcd5f-4abc-41ff-bd11-5a66358cef4e",
   "metadata": {},
   "outputs": [],
   "source": [
    "job.delete()"
   ]
  }
 ],
 "metadata": {
  "environment": {
   "kernel": "conda-root-py",
   "name": "workbench-notebooks.m115",
   "type": "gcloud",
   "uri": "gcr.io/deeplearning-platform-release/workbench-notebooks:m115"
  },
  "kernelspec": {
   "display_name": "Python 3 (ipykernel) (Local)",
   "language": "python",
   "name": "conda-root-py"
  },
  "language_info": {
   "codemirror_mode": {
    "name": "ipython",
    "version": 3
   },
   "file_extension": ".py",
   "mimetype": "text/x-python",
   "name": "python",
   "nbconvert_exporter": "python",
   "pygments_lexer": "ipython3",
   "version": "3.10.13"
  }
 },
 "nbformat": 4,
 "nbformat_minor": 5
}
