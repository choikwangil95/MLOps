{
 "cells": [
  {
   "cell_type": "code",
   "execution_count": null,
   "id": "66b8a0ab-7750-4861-b6f7-c531d16793ba",
   "metadata": {
    "tags": []
   },
   "outputs": [],
   "source": [
    "# Copyright 2021 Google LLC\n",
    "#\n",
    "# Licensed under the Apache License, Version 2.0 (the \"License\");\n",
    "# you may not use this file except in compliance with the License.\n",
    "# You may obtain a copy of the License at\n",
    "#\n",
    "#     https://www.apache.org/licenses/LICENSE-2.0\n",
    "#\n",
    "# Unless required by applicable law or agreed to in writing, software\n",
    "# distributed under the License is distributed on an \"AS IS\" BASIS,\n",
    "# WITHOUT WARRANTIES OR CONDITIONS OF ANY KIND, either express or implied.\n",
    "# See the License for the specific language governing permissions and\n",
    "# limitations under the License."
   ]
  },
  {
   "cell_type": "markdown",
   "id": "6bf7d97e-a9d5-4fe0-9ff3-6d928d921835",
   "metadata": {},
   "source": [
    "# Vertex AI Pipelines: AutomML을 활용한 Image Classification 모델 학습\n",
    "\n",
    "#### Flowers Dataset을 활용해서 flower 유형(daisy, dandelion, rose, sunflower, tulip) 중에 어떤 것인지 classification하는 모델 학습"
   ]
  },
  {
   "cell_type": "markdown",
   "id": "f616f9ec-fee6-4979-a212-829ce9fb5afa",
   "metadata": {},
   "source": [
    "## 설치\n",
    "\n",
    "필요한 library 설치"
   ]
  },
  {
   "cell_type": "code",
   "execution_count": 1,
   "id": "22a0f665-95c3-40c4-8c49-d507821ad453",
   "metadata": {
    "tags": []
   },
   "outputs": [],
   "source": [
    "! pip3 install --upgrade --quiet google-cloud-aiplatform \\\n",
    "                                 kfp \\\n",
    "                                 google-cloud-pipeline-components==2.4.1 \\\n",
    "                                 google-cloud-storage"
   ]
  },
  {
   "cell_type": "markdown",
   "id": "4c3985b6-c1c5-4bc6-9dac-810c1bfaced9",
   "metadata": {},
   "source": [
    "## 환경 설정\n",
    "\n",
    "Project ID와 Region 설정 "
   ]
  },
  {
   "cell_type": "code",
   "execution_count": 2,
   "id": "fcb30377-a207-46f4-af23-ecf52c740d66",
   "metadata": {
    "tags": []
   },
   "outputs": [
    {
     "name": "stdout",
     "output_type": "stream",
     "text": [
      "[compute]\n",
      "region = us-central1\n",
      "[core]\n",
      "account = 651078960027-compute@developer.gserviceaccount.com\n",
      "disable_usage_reporting = True\n",
      "project = inspired-micron-414202\n",
      "[dataproc]\n",
      "region = us-central1\n",
      "\n",
      "Your active configuration is: [default]\n"
     ]
    }
   ],
   "source": [
    "!gcloud config list"
   ]
  },
  {
   "cell_type": "code",
   "execution_count": 3,
   "id": "d17339e8-cff5-423f-bc99-ca69f43978d3",
   "metadata": {
    "tags": []
   },
   "outputs": [
    {
     "name": "stdout",
     "output_type": "stream",
     "text": [
      "PROJECT_ID              NAME              PROJECT_NUMBER\n",
      "inspired-micron-414202  My First Project  651078960027\n"
     ]
    }
   ],
   "source": [
    "!gcloud projects list"
   ]
  },
  {
   "cell_type": "code",
   "execution_count": 4,
   "id": "49e76a09-69e7-435b-a9e2-60004c46555c",
   "metadata": {
    "tags": []
   },
   "outputs": [
    {
     "name": "stdout",
     "output_type": "stream",
     "text": [
      "Updated property [core/project].\n"
     ]
    }
   ],
   "source": [
    "PROJECT_ID = \"inspired-micron-414202\" \n",
    "REGION = \"us-central1\"\n",
    "\n",
    "# Project ID 세팅\n",
    "! gcloud config set project {PROJECT_ID}\n"
   ]
  },
  {
   "cell_type": "markdown",
   "id": "e3434866-0f83-482f-a203-43bea041504f",
   "metadata": {},
   "source": [
    "### - Cloud Storage bucket 생성\n",
    "\n",
    "dataset이나 artifact를 저장하기 위한 bucket을 생성"
   ]
  },
  {
   "cell_type": "code",
   "execution_count": 5,
   "id": "b1d072fe-442d-4f2b-b0c7-f3e99387ad2c",
   "metadata": {
    "tags": []
   },
   "outputs": [],
   "source": [
    "BUCKET_URI = f\"gs://fs-practice-{PROJECT_ID}\"  # @param {type:\"string\"}"
   ]
  },
  {
   "cell_type": "code",
   "execution_count": 6,
   "id": "2fc87e08-7a85-4f51-a31d-0e544cc553b0",
   "metadata": {
    "tags": []
   },
   "outputs": [
    {
     "name": "stdout",
     "output_type": "stream",
     "text": [
      "Creating gs://fs-practice-inspired-micron-414202/...\n",
      "ServiceException: 409 A Cloud Storage bucket named 'fs-practice-inspired-micron-414202' already exists. Try another name. Bucket names must be globally unique across all Google Cloud projects, including those outside of your organization.\n"
     ]
    }
   ],
   "source": [
    "! gsutil mb -l {REGION} -p {PROJECT_ID} {BUCKET_URI}"
   ]
  },
  {
   "cell_type": "markdown",
   "id": "37cc179c-2cb3-46e7-b2eb-9418502a431c",
   "metadata": {},
   "source": [
    "### - Service Account 설정\n",
    "Service Account가 Bucket에 접근할 수 있도록 설정"
   ]
  },
  {
   "cell_type": "code",
   "execution_count": 7,
   "id": "b30a4d23-f9fd-4500-a93b-cd27d2dee77e",
   "metadata": {
    "tags": []
   },
   "outputs": [],
   "source": [
    "shell_output = !gcloud auth list 2>/dev/null\n",
    "SERVICE_ACCOUNT = shell_output[2].replace(\"*\", \"\").strip()"
   ]
  },
  {
   "cell_type": "code",
   "execution_count": 8,
   "id": "0e1790b8-f468-4b19-98c5-3e31a7fc8bf0",
   "metadata": {
    "tags": []
   },
   "outputs": [
    {
     "name": "stdout",
     "output_type": "stream",
     "text": [
      "No changes made to gs://fs-practice-inspired-micron-414202/\n",
      "No changes made to gs://fs-practice-inspired-micron-414202/\n"
     ]
    }
   ],
   "source": [
    "! gsutil iam ch serviceAccount:{SERVICE_ACCOUNT}:roles/storage.objectCreator $BUCKET_URI\n",
    "\n",
    "! gsutil iam ch serviceAccount:{SERVICE_ACCOUNT}:roles/storage.objectViewer $BUCKET_URI"
   ]
  },
  {
   "cell_type": "markdown",
   "id": "1c58b757-3f42-49cd-80c6-ca6ed924b8ed",
   "metadata": {},
   "source": [
    "## 주요 Library Import (kuberflow pipeline) \n"
   ]
  },
  {
   "cell_type": "code",
   "execution_count": 9,
   "id": "5b7045cf-8f22-4061-8fcb-532061078f2e",
   "metadata": {
    "tags": []
   },
   "outputs": [
    {
     "name": "stderr",
     "output_type": "stream",
     "text": [
      "/var/tmp/ipykernel_156299/1261449357.py:5: DeprecationWarning: The module `kfp.v2` is deprecated and will be removed in a futureversion. Please import directly from the `kfp` namespace, instead of `kfp.v2`.\n",
      "  from kfp.v2 import compiler\n"
     ]
    }
   ],
   "source": [
    "from typing import Any, Dict, List\n",
    "\n",
    "import google.cloud.aiplatform as aip\n",
    "import kfp\n",
    "from kfp.v2 import compiler\n",
    "\n",
    "import random\n",
    "import string"
   ]
  },
  {
   "cell_type": "markdown",
   "id": "0cdad918-0c6c-41cc-8279-3eb56a1319bc",
   "metadata": {},
   "source": [
    "Vertext AI Pipeline root 설정"
   ]
  },
  {
   "cell_type": "code",
   "execution_count": 10,
   "id": "d50a8db0-6a4f-42db-ad7f-5a70b3b2e80c",
   "metadata": {
    "tags": []
   },
   "outputs": [],
   "source": [
    "PIPELINE_ROOT = \"{}/pipeline_root/automl_image_classification\".format(BUCKET_URI)"
   ]
  },
  {
   "cell_type": "markdown",
   "id": "dc8d42af-1ced-4e10-8ac8-eacad03000f8",
   "metadata": {},
   "source": [
    "Initialize AI platform object"
   ]
  },
  {
   "cell_type": "code",
   "execution_count": 11,
   "id": "f3bb25d5-19e8-49cf-8c2a-ec0453c41ba2",
   "metadata": {
    "tags": []
   },
   "outputs": [],
   "source": [
    "aip.init(project=PROJECT_ID, staging_bucket=BUCKET_URI)"
   ]
  },
  {
   "cell_type": "markdown",
   "id": "3805628e-823b-48b3-8619-8c43ef82e5d5",
   "metadata": {},
   "source": [
    "## Google Cloud Pipeline Components을 사용하여 Custom Pipeline을 정의\n",
    "\n",
    "experimental.run_as_aiplatform_custom_job 메서드는 이전에 정의한 구성 요소와 worker_pool_specs 목록(이 경우 하나)을 인수로 받아 사용자 지정 훈련 작업이 구성된다.\n",
    "\n",
    "그런 다음 google_cloud_pipeline_components 구성 요소를 사용하여 나머지 파이프라인을 정의합니다: 모델 업로드, 엔드포인트 생성 및 모델을 엔드포인트에 배포합니다.\n",
    "\n"
   ]
  },
  {
   "cell_type": "markdown",
   "id": "3c28bf84-287b-44af-9c5b-8f7ec400a3cb",
   "metadata": {},
   "source": [
    "#### Pipeline을 정의\n",
    "\n",
    "![pipeline 구성](practice_image/Clip7_image.png)"
   ]
  },
  {
   "cell_type": "code",
   "execution_count": 12,
   "id": "4f8a2391-882f-47d1-a418-c2142ed35b23",
   "metadata": {
    "tags": []
   },
   "outputs": [],
   "source": [
    "@kfp.dsl.pipeline(name=\"automl-flower-clf\")\n",
    "def pipeline(project: str = PROJECT_ID, region: str = REGION):\n",
    "    from google_cloud_pipeline_components.v1.automl.training_job import \\\n",
    "        AutoMLImageTrainingJobRunOp\n",
    "    from google_cloud_pipeline_components.v1.dataset import \\\n",
    "        ImageDatasetCreateOp\n",
    "    from google_cloud_pipeline_components.v1.endpoint import (EndpointCreateOp,\n",
    "                                                              ModelDeployOp)\n",
    "\n",
    "    ds_op = ImageDatasetCreateOp(\n",
    "        project=project,\n",
    "        display_name=\"flowers_dataset\",\n",
    "        gcs_source=\"gs://cloud-samples-data/vision/automl_classification/flowers/all_data_v2.csv\",\n",
    "        import_schema_uri=aip.schema.dataset.ioformat.image.single_label_classification,\n",
    "    )\n",
    "\n",
    "    training_job_run_op = AutoMLImageTrainingJobRunOp(\n",
    "        project=project,\n",
    "        display_name=\"automl-flower-clf\",\n",
    "        prediction_type=\"classification\",\n",
    "        model_type=\"CLOUD\",\n",
    "        dataset=ds_op.outputs[\"dataset\"],\n",
    "        model_display_name=\"automl-flower-clf\",\n",
    "        training_fraction_split=0.7,\n",
    "        validation_fraction_split=0.15,\n",
    "        test_fraction_split=0.15,\n",
    "        budget_milli_node_hours=9000,\n",
    "    )\n",
    "\n",
    "    endpoint_op = EndpointCreateOp(\n",
    "        project=project,\n",
    "        location=region,\n",
    "        display_name=\"automl-flower-clf\",\n",
    "    )\n",
    "\n",
    "    ModelDeployOp(\n",
    "        model=training_job_run_op.outputs[\"model\"],\n",
    "        endpoint=endpoint_op.outputs[\"endpoint\"],\n",
    "        automatic_resources_min_replica_count=1,\n",
    "        automatic_resources_max_replica_count=1,\n",
    "    )"
   ]
  },
  {
   "cell_type": "markdown",
   "id": "6bedc2eb-36f7-4710-8b3c-4042776ab43a",
   "metadata": {},
   "source": [
    "## Pipeline 실행"
   ]
  },
  {
   "cell_type": "code",
   "execution_count": 13,
   "id": "9ebdced9-b27f-4b65-aa79-bfc2bb6d75b6",
   "metadata": {
    "tags": []
   },
   "outputs": [],
   "source": [
    "compiler.Compiler().compile(\n",
    "    pipeline_func=pipeline, package_path=\"automl_image_classification_pipeline.yaml\"\n",
    ")"
   ]
  },
  {
   "cell_type": "code",
   "execution_count": null,
   "id": "3c1355c4-e83e-4fc2-abce-47a4f9197290",
   "metadata": {
    "tags": []
   },
   "outputs": [
    {
     "name": "stdout",
     "output_type": "stream",
     "text": [
      "Creating PipelineJob\n",
      "PipelineJob created. Resource name: projects/651078960027/locations/us-central1/pipelineJobs/automl-flower-clf-20240215105538\n",
      "To use this PipelineJob in another session:\n",
      "pipeline_job = aiplatform.PipelineJob.get('projects/651078960027/locations/us-central1/pipelineJobs/automl-flower-clf-20240215105538')\n",
      "View Pipeline Job:\n",
      "https://console.cloud.google.com/vertex-ai/locations/us-central1/pipelines/runs/automl-flower-clf-20240215105538?project=651078960027\n",
      "PipelineJob projects/651078960027/locations/us-central1/pipelineJobs/automl-flower-clf-20240215105538 current state:\n",
      "PipelineState.PIPELINE_STATE_RUNNING\n",
      "PipelineJob projects/651078960027/locations/us-central1/pipelineJobs/automl-flower-clf-20240215105538 current state:\n",
      "PipelineState.PIPELINE_STATE_RUNNING\n",
      "PipelineJob projects/651078960027/locations/us-central1/pipelineJobs/automl-flower-clf-20240215105538 current state:\n",
      "PipelineState.PIPELINE_STATE_RUNNING\n",
      "PipelineJob projects/651078960027/locations/us-central1/pipelineJobs/automl-flower-clf-20240215105538 current state:\n",
      "PipelineState.PIPELINE_STATE_RUNNING\n",
      "PipelineJob projects/651078960027/locations/us-central1/pipelineJobs/automl-flower-clf-20240215105538 current state:\n",
      "PipelineState.PIPELINE_STATE_RUNNING\n",
      "PipelineJob projects/651078960027/locations/us-central1/pipelineJobs/automl-flower-clf-20240215105538 current state:\n",
      "PipelineState.PIPELINE_STATE_RUNNING\n"
     ]
    }
   ],
   "source": [
    "UUID = \"\".join(random.choices(string.ascii_lowercase + string.digits, k=8))\n",
    "DISPLAY_NAME = \"flowers_automl_\" + UUID\n",
    "\n",
    "job = aip.PipelineJob(\n",
    "    display_name=DISPLAY_NAME,\n",
    "    template_path=\"automl_image_classification_pipeline.yaml\",\n",
    "    pipeline_root=PIPELINE_ROOT,\n",
    "    enable_caching=False,\n",
    ")\n",
    "\n",
    "job.run()\n",
    "\n",
    "# ! rm automl_image_classification_pipeline.yaml"
   ]
  },
  {
   "cell_type": "markdown",
   "id": "35d5f369-682c-4542-8509-32e03d4cdb6a",
   "metadata": {},
   "source": [
    "## SDK를 활용해서 Pipeline 정보 확인 및 컨트롤"
   ]
  },
  {
   "cell_type": "code",
   "execution_count": null,
   "id": "3c2c101e-e783-47e2-973e-071a528192b6",
   "metadata": {
    "tags": []
   },
   "outputs": [],
   "source": [
    "def get_task_detail(\n",
    "    task_details: List[Dict[str, Any]], task_name: str\n",
    ") -> List[Dict[str, Any]]:\n",
    "    for task_detail in task_details:\n",
    "        if task_detail.task_name == task_name:\n",
    "            return task_detail"
   ]
  },
  {
   "cell_type": "markdown",
   "id": "cfe9dcc8-bf15-4dbc-92be-72a4c5a865bf",
   "metadata": {},
   "source": [
    "#### pipeline detail 확인"
   ]
  },
  {
   "cell_type": "code",
   "execution_count": null,
   "id": "5a4f6d1d-6328-4ba7-ad20-506498755204",
   "metadata": {
    "tags": []
   },
   "outputs": [],
   "source": [
    "pipeline_task_details = (\n",
    "    job.gca_resource.job_detail.task_details\n",
    ")\n",
    "pipeline_task_details"
   ]
  },
  {
   "cell_type": "markdown",
   "id": "a5afaeb4-f992-4c4a-8f29-7e72874b37fc",
   "metadata": {},
   "source": [
    "#### endpoint 확인 "
   ]
  },
  {
   "cell_type": "code",
   "execution_count": null,
   "id": "b387de38-5b61-487c-8649-e84d3cc6dd7d",
   "metadata": {
    "tags": []
   },
   "outputs": [],
   "source": [
    "endpoint_task = get_task_detail(pipeline_task_details, \"endpoint-create\")\n",
    "endpoint_resourceName = (\n",
    "    endpoint_task.outputs[\"endpoint\"].artifacts[0].metadata[\"resourceName\"]\n",
    ")\n",
    "endpoint = aip.Endpoint(endpoint_resourceName)\n",
    "endpoint"
   ]
  },
  {
   "cell_type": "markdown",
   "id": "6a49bb72-886d-4653-8b80-07c0472439a0",
   "metadata": {},
   "source": [
    "#### endpoint undeploy와 삭제"
   ]
  },
  {
   "cell_type": "code",
   "execution_count": null,
   "id": "8a1f7183-1756-4dac-a902-b31d958c15dc",
   "metadata": {},
   "outputs": [],
   "source": [
    "endpoint.undeploy_all()\n",
    "endpoint.delete()"
   ]
  },
  {
   "cell_type": "markdown",
   "id": "102f9c6c-7170-4125-9acf-7bed21697f29",
   "metadata": {},
   "source": [
    "#### pipeline의 모델과 모델 제거하기"
   ]
  },
  {
   "cell_type": "code",
   "execution_count": null,
   "id": "06763abe-d0cd-4109-8ca9-58fde4eb5889",
   "metadata": {},
   "outputs": [],
   "source": [
    "model_task = get_task_detail(pipeline_task_details, \"model-upload\")\n",
    "model_resourceName = model_task.outputs[\"model\"].artifacts[0].metadata[\"resourceName\"]\n",
    "model = aip.Model(model_resourceName)\n",
    "model.delete()"
   ]
  },
  {
   "cell_type": "markdown",
   "id": "db62a60a-b650-40f9-9923-cd254bc81d16",
   "metadata": {},
   "source": [
    "#### Pipline 제거하기"
   ]
  },
  {
   "cell_type": "code",
   "execution_count": null,
   "id": "04abcd5f-4abc-41ff-bd11-5a66358cef4e",
   "metadata": {},
   "outputs": [],
   "source": [
    "job.delete()"
   ]
  }
 ],
 "metadata": {
  "environment": {
   "kernel": "conda-env-tensorflow-tensorflow",
   "name": "workbench-notebooks.m115",
   "type": "gcloud",
   "uri": "gcr.io/deeplearning-platform-release/workbench-notebooks:m115"
  },
  "kernelspec": {
   "display_name": "TensorFlow 2-11 (Local)",
   "language": "python",
   "name": "conda-env-tensorflow-tensorflow"
  },
  "language_info": {
   "codemirror_mode": {
    "name": "ipython",
    "version": 3
   },
   "file_extension": ".py",
   "mimetype": "text/x-python",
   "name": "python",
   "nbconvert_exporter": "python",
   "pygments_lexer": "ipython3",
   "version": "3.10.13"
  }
 },
 "nbformat": 4,
 "nbformat_minor": 5
}
